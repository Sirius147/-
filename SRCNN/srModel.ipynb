{
 "cells": [
  {
   "cell_type": "code",
   "execution_count": 32,
   "metadata": {},
   "outputs": [],
   "source": [
    "import torch\n",
    "from torch import nn\n",
    "from torch import optim\n",
    "from torch.utils.data import Dataset,DataLoader\n",
    "from torchvision.transforms import ToTensor, ToPILImage\n",
    "# from torchvision.datasets.imagenet import ImageNet\n",
    "from PIL import Image\n",
    "from PIL import ImageFilter\n",
    "import glob\n",
    "import numpy as np\n",
    "import matplotlib.pyplot as plt"
   ]
  },
  {
   "cell_type": "markdown",
   "metadata": {},
   "source": [
    "## Data preprocessing"
   ]
  },
  {
   "cell_type": "markdown",
   "metadata": {},
   "source": [
    "*1. input channel convert?*\n",
    "\n",
    "*1-1 img pre processing*\n",
    "\n",
    "**2. channel size, filter size, use padding**\n",
    "\n",
    "**3. weight initialize**\n",
    "\n",
    "**4. learning rate**\n",
    "\n",
    "**5. inference**\n"
   ]
  },
  {
   "cell_type": "code",
   "execution_count": 2,
   "metadata": {},
   "outputs": [],
   "source": [
    "# randomly cropping from training sample with size(33,33,3) and stride 14(91img train set)\n",
    "# blur sub-image by gaussian kernel\n",
    "# bicubic interpolation with upscale factor 3\n",
    "\n",
    "## RandomResizedCrop()함수를 사용하는 것은 어떤가?\n",
    "\n",
    "# through PIL\n",
    "class SRdataset(Dataset):\n",
    "    def __init__(self, data_path, sub_img_size, size_gap, stride, upscale_factor):\n",
    "        super(Dataset, self).__init__()\n",
    "        self.data_path = glob.glob(data_path)\n",
    "        # data color channel 확인\n",
    "        tmp = Image.open(self.data_path[0])\n",
    "        print(f\"Dataset's color mode is:{tmp.getbands()}\")\n",
    "        self.sub_img_size = sub_img_size\n",
    "        # 고해상 이미지는 filter size로 인해 크기가 작아지는데, 이 사이즈에 맞는 label 생성을 위한 멤버변수 -> size gap\n",
    "        self.size_gap = size_gap    \n",
    "        self.stride = stride\n",
    "        self.upscale_factor = upscale_factor\n",
    "        self.data = []\n",
    "        self.label = []\n",
    "        self.transform = ToTensor()\n",
    "        # start preprocessing\n",
    "        # cropping imgs\n",
    "        for path in self.data_path:\n",
    "            img = Image.open(path)\n",
    "            self.cropping(img, self.sub_img_size, self.size_gap, self.stride)\n",
    "        # cropping 성공여부 확인\n",
    "        plt.subplot(1,4,1)\n",
    "        plt.imshow(self.data[0])\n",
    "        plt.title(\"cropped data\")\n",
    "        plt.subplot(1,4,2)\n",
    "        plt.imshow(self.label[0])\n",
    "        plt.title(\"cropped label\")\n",
    "        print(f\"cropped img type: {type(self.data[0])}, width: {self.data[0].width}, height: {self.data[0].height}\")\n",
    "        # blurring train data\n",
    "        for idx in range(len(self.data)):\n",
    "            self.data[idx] = self.data[idx].filter(ImageFilter.GaussianBlur(0.8))\n",
    "        # blurred img 확인\n",
    "        plt.subplot(1,4,3)\n",
    "        plt.imshow(self.data[0])\n",
    "        plt.title(\"blurred\")\n",
    "        # apply bicubic interpolation\n",
    "        for idx in range(len(self.data)):\n",
    "            self.data[idx] = self.bicubic_interpolation(self.data[idx],self.upscale_factor)\n",
    "        plt.subplot(1,4,4)\n",
    "        plt.imshow(self.data[0])\n",
    "        plt.title(\"apply bicubicI\")\n",
    "        # data transforming to Tensor\n",
    "        for idx in range(len(self.data)):\n",
    "            self.data[idx],self.label[idx] = self.transform(self.data[idx]), self.transform(self.label[idx])\n",
    "        print(f\"Now datatype is:{type(self.data[0])}\")\n",
    "    # stride를 14로 돌면서 img를 sub_img_size로 crop하여 train data 생성, size 변화 고려하여 label 생성\n",
    "    def cropping(self, img, sub_img_size, size_gap, stride):\n",
    "        for i in range(0, img.height - sub_img_size + 1, stride):\n",
    "            for j in range(0, img.width - sub_img_size + 1, stride):\n",
    "                # sample crop으로 train sub image 생성\n",
    "                cropped_temp = img.crop((j, i, j+sub_img_size, i+sub_img_size))\n",
    "                self.data.append(cropped_temp)\n",
    "                # size 축소에 따른 label 저장\n",
    "                label_temp = img.crop((j+size_gap, i+size_gap, j+sub_img_size-size_gap,\\\n",
    "                                       i+sub_img_size-size_gap))\n",
    "                self.label.append(label_temp)\n",
    "    # upscale factor는 3으로, 먼저 upscale factor로 sub-sample해준다.(1/3으로 축소), 이후 다시 upscale factor만큼 확대해준다.\n",
    "    def bicubic_interpolation(self, data, scale):\n",
    "        w,h = data.size\n",
    "        tempw, temph = w//3, h//3\n",
    "        temp = data.resize((tempw,temph), Image.BICUBIC)\n",
    "        return temp.resize((w,h),Image.BICUBIC)\n",
    "    # data 길이 반환함수\n",
    "    def __len__(self):\n",
    "        return len(self.data)\n",
    "    # indexing을 위한 overiding\n",
    "    def __getitem__(self,idx):\n",
    "        x,y = self.data[idx],self.label[idx]\n",
    "        return x,y\n",
    "    "
   ]
  },
  {
   "cell_type": "markdown",
   "metadata": {},
   "source": [
    "## Define dataset & dataloader "
   ]
  },
  {
   "cell_type": "code",
   "execution_count": 3,
   "metadata": {},
   "outputs": [
    {
     "name": "stdout",
     "output_type": "stream",
     "text": [
      "Dataset's color mode is:('R', 'G', 'B')\n",
      "cropped img type: <class 'PIL.Image.Image'>, width: 33, height: 33\n",
      "Now datatype is:<class 'torch.Tensor'>\n",
      "Dataset's color mode is:('R', 'G', 'B')\n",
      "cropped img type: <class 'PIL.Image.Image'>, width: 33, height: 33\n",
      "Now datatype is:<class 'torch.Tensor'>\n"
     ]
    },
    {
     "data": {
      "image/png": "[encoded data removed]",
      "text/plain": [
       "<Figure size 640x480 with 4 Axes>"
      ]
     },
     "metadata": {},
     "output_type": "display_data"
    }
   ],
   "source": [
    "# params for dataset\n",
    "data_path = \"./T91/*.png\"\n",
    "test_path1 = \"./Set5/Set5/*.png\"\n",
    "test_path2 = \"./Set14/Set14/*.png\"\n",
    "sub_img_size, stride, upscale_factor = 33, 14, 3\n",
    "# basic filter size of SRCNN\n",
    "f1, f2, f3 = 9, 1, 5\n",
    "out_img_size = sub_img_size - (f1+f2+f3) + 3\n",
    "size_gap = (sub_img_size - out_img_size)//2\n",
    "\n",
    "#params for dataloader\n",
    "batch_size = 64\n",
    "train_dataset = SRdataset(data_path, sub_img_size, size_gap, stride, upscale_factor)\n",
    "# test_dataset1 = SRdataset(test_path1, sub_img_size, size_gap, stride, upscale_factor)\n",
    "test_dataset2 = SRdataset(test_path2,sub_img_size, size_gap, stride, upscale_factor)\n",
    "\n",
    "train_loader = DataLoader(train_dataset, batch_size = batch_size)\n",
    "test_loader2 = DataLoader(test_dataset2, batch_size = batch_size)\n",
    "# train_loader test\n",
    "# for data, label in train_loader:\n",
    "#     img, lab = data[0], label[0]\n",
    "# plt.subplot(2,1,1) # subplots -> return fig, axes\n",
    "# plt.imshow(np.transpose(img,(1,2,0)))\n",
    "# plt.subplot(2,1,2)\n",
    "# plt.imshow(np.transpose(lab,(1,2,0)))"
   ]
  },
  {
   "cell_type": "markdown",
   "metadata": {},
   "source": [
    "## Model"
   ]
  },
  {
   "cell_type": "code",
   "execution_count": 4,
   "metadata": {},
   "outputs": [
    {
     "name": "stdout",
     "output_type": "stream",
     "text": [
      "device is cuda\n"
     ]
    }
   ],
   "source": [
    "device = 'cuda' if torch.cuda.is_available() else 'cpu'\n",
    "print(f\"device is {device}\")"
   ]
  },
  {
   "cell_type": "code",
   "execution_count": 30,
   "metadata": {},
   "outputs": [
    {
     "name": "stdout",
     "output_type": "stream",
     "text": [
      "SRCNN(\n",
      "  (conv1): Conv2d(3, 64, kernel_size=(9, 9), stride=(1, 1))\n",
      "  (conv2): Conv2d(64, 32, kernel_size=(1, 1), stride=(1, 1))\n",
      "  (conv3): Conv2d(32, 3, kernel_size=(5, 5), stride=(1, 1))\n",
      "  (relu): ReLU()\n",
      ")\n"
     ]
    }
   ],
   "source": [
    "class SRCNN(nn.Module):\n",
    "    def __init__(self):\n",
    "        super(SRCNN,self).__init__()\n",
    "\n",
    "        self.conv1 = nn.Conv2d(3,out_channels=64,kernel_size=9)\n",
    "        self.conv2 = nn.Conv2d(64,32,kernel_size=1)\n",
    "        self.conv3 = nn.Conv2d(32,3,kernel_size=5)\n",
    "        self.relu = nn.ReLU()\n",
    "        # 가중치 초기화\n",
    "        nn.init.normal_(self.conv1.weight, mean=0, std=0.001)\n",
    "        nn.init.normal_(self.conv2.weight, mean=0, std=0.001)\n",
    "        nn.init.normal_(self.conv3.weight, mean=0, std=0.001)\n",
    "\n",
    "        # bias 초기화\n",
    "        # nn.init.constant_(self.conv1.bias, 0)\n",
    "        # nn.init.constant_(self.conv2.bias, 0)\n",
    "        # nn.init.constant_(self.conv3.bias, 0)\n",
    "\n",
    "        nn.init.zeros_(self.conv1.bias)\n",
    "        nn.init.zeros_(self.conv2.bias)\n",
    "        nn.init.zeros_(self.conv2.bias)\n",
    "    def forward(self,x):\n",
    "        x = self.relu(self.conv1(x))\n",
    "        x = self.relu(self.conv2(x))\n",
    "        x = self.conv3(x)\n",
    "\n",
    "        return x\n",
    "\n",
    "\n",
    "model = SRCNN().to(device)\n",
    "# # 레이어별 다른 lr설정을 위한 네트워크 파라이터 cutomize\n",
    "c_parameters, c_lr = [] , {'conv3.weight':1e-5}\n",
    "\n",
    "for name, param in model.named_parameters():\n",
    "    if name in c_lr: c_parameters.append({'params':param, 'lr':c_lr[name]})\n",
    "    else: c_parameters.append({'params':param})\n",
    "\n",
    "lossF = nn.MSELoss()\n",
    "# basic lr -> 0.0001\n",
    "optimizer = optim.Adam(c_parameters , lr = 1e-4)  \n",
    "\n",
    "print(model)"
   ]
  },
  {
   "cell_type": "markdown",
   "metadata": {},
   "source": [
    "## Train & Eval\n",
    "\n",
    "**모델 파라미터와 bias 초기화, lr 변화, optimizer종류,psnr함수 적용**"
   ]
  },
  {
   "cell_type": "code",
   "execution_count": 31,
   "metadata": {},
   "outputs": [],
   "source": [
    "import tqdm\n",
    "\n",
    "# Super Resolution 평가 함수, mse가 작을 수록 좋은 지표 (psnr값이 클수록)\n",
    "def psnr(pred, label):\n",
    "    # 픽셀 최대값으로 정규화, 최대값의 제곱은 1.0\n",
    "    pred /= 255.0; label /= 255.0\n",
    "    # MSE(Mean Squared Error) 계산\n",
    "    mse = torch.mean((pred - label) ** 2)  \n",
    "    # log10(1**2/mse) -> log10(1/sqrt(mse))\n",
    "    return 20 * torch.log10(1.0 / torch.sqrt(mse))\n",
    "\n",
    "def train(train_loader,model,lossF, optimizer):\n",
    "    dataSize = len(train_loader.dataset)\n",
    "    for batchNumber, data, label in tqdm.tqdm(enumerate(train_loader)):\n",
    "        data,model = data.to(device),model.to(device)\n",
    "        pred = model(data)\n",
    "        loss = lossF(pred,label)\n",
    "        batchPsnr = psnr(pred,label) / len(data)\n",
    "\n",
    "        optimizer.zero_grad()\n",
    "        loss.backward()\n",
    "        optimizer.step()\n",
    "\n",
    "        if batchNumber % 100 == 0:\n",
    "            loss , currentDataNum, psnrValue = loss.item(), (batchNumber+1) * len(data), batchPsnr\n",
    "            print(f\"loss:{loss}, psnr value:{psnrValue}, at the {currentDataNum}/{dataSize}\")\n",
    "\n",
    "def test(test_loader, model, lossF):\n",
    "    batchTotalSize = len(test_loader)\n",
    "    totalLoss = 0\n",
    "    finalPsnr = 0.0\n",
    "    with torch.no_grad():\n",
    "        for data, label in tqdm.tqdm(test_loader):\n",
    "            data , label = data.to(device), label.to(device)\n",
    "            pred = model(data)\n",
    "            totalLoss += lossF(pred,label).item()\n",
    "            finalPsnr += psnr(pred,label) / len(data)\n",
    "    print(f\"\\ntest loss:{totalLoss / batchTotalSize}, test psnr: {finalPsnr / batchTotalSize}\")"
   ]
  },
  {
   "cell_type": "code",
   "execution_count": null,
   "metadata": {},
   "outputs": [],
   "source": [
    "epoch = 100\n",
    "device = 'cuda' if torch.cuda.is_available() else 'cpu'\n",
    "model.to(device)\n",
    "\n",
    "for epochNum in range(epoch):\n",
    "    print(f\"Train epoch:{epochNum+1}-------------\")\n",
    "    train(train_loader,model,lossF,optimizer)\n",
    "\n",
    "print(\"Train end, test start\")\n",
    "\n",
    "model.eval()\n",
    "with torch.no_grad():\n",
    "    test(test_loader2,model, lossF)\n",
    "\n",
    "print(\"test end, visual test start\")\n",
    "transform = ToTensor()\n",
    "vtImage = Image.open('./Set14/Set14/monarch.png')\n",
    "print(f\"picture shape:{vtImage.size}\")\n",
    "vtTensor = transform(vtImage).unsqueeze(0)\n",
    "\n",
    "model.eval()\n",
    "with torch.no_grad():\n",
    "    output = model(vtTensor)\n",
    "vtOutput = ToPILImage()(output.squeeze(0).clamp(0, 1))  # clamp는 min,max 사이의 값으로 tensor값을 제한해준다.\n",
    "print(f\"SR img shape:{vtOutput.size}\")\n",
    "\n",
    "vtOutput.save('./SRmonarch.png')\n",
    "\n",
    "plt.subplot(1,2,1)\n",
    "plt.imshow(vtImage)\n",
    "plt.title('original')\n",
    "plt.subplot(1,2,2)\n",
    "plt.imshow(vtOutput)\n",
    "plt.title('Super Resolution')"
   ]
  },
  {
   "cell_type": "markdown",
   "metadata": {},
   "source": [
    "## Model & parameters save and Load"
   ]
  },
  {
   "cell_type": "code",
   "execution_count": null,
   "metadata": {},
   "outputs": [],
   "source": [
    "torch.save(model.state_dict(),\"SRCNN_100.pth\")\n",
    "print(f\"model saved succedssfully\")"
   ]
  },
  {
   "cell_type": "code",
   "execution_count": null,
   "metadata": {},
   "outputs": [],
   "source": [
    "device = 'cuda' if torch.cuda.is_available() else 'cpu'\n",
    "model = SRCNN().to(device)\n",
    "model.load_state_dict(torch.load(\"SRCNN_100.pth\"))\n",
    "print(f\"model successfully loaded\")"
   ]
  },
  {
   "cell_type": "markdown",
   "metadata": {},
   "source": [
    "## Inference by real world data"
   ]
  },
  {
   "cell_type": "code",
   "execution_count": null,
   "metadata": {},
   "outputs": [],
   "source": [
    "# 다음 코드로 이미지 확장자를 확인할 수 있다. img.format\n",
    "# with Image.open(image_path) as img:\n",
    "#             # Check the format of the image\n",
    "#             print(f\"The format of the image is: {img.format}\")\n",
    "dataPath = './inferenceData/infer1.JPG'\n",
    "jpgimg = Image.open(dataPath)\n",
    "pngPath = dataPath.replace('.JPG','.PNG')\n",
    "jpgimg.save(pngPath)\n",
    "jpgimg.close()\n",
    "\n"
   ]
  },
  {
   "cell_type": "code",
   "execution_count": null,
   "metadata": {},
   "outputs": [],
   "source": [
    "dataPath = pngPath\n",
    "img = Image.open(dataPath)\n",
    "img = img.convert('RGB')\n",
    "print(f\"picture shape:{img.size}\")\n",
    "transform = ToTensor()\n",
    "img = transform(img).unsqueeze(0)\n",
    "\n",
    "model.eval()\n",
    "with torch.no_grad():\n",
    "    output = model(img)\n",
    "infed = ToPILImage()(output.squeeze(0).clamp(0, 1))\n",
    "print(f\"result size:{infed.size}\")\n",
    "\n",
    "infed.save('./inferenceData/inferenced/inferenced1.png')\n",
    "plt.subplot(1,2,1)\n",
    "plt.imshow(img)\n",
    "plt.title('original')\n",
    "plt.subplot(1,2,2)\n",
    "plt.imshow(infed)\n",
    "plt.title('Super Resolution')"
   ]
  }
 ],
 "metadata": {
  "kernelspec": {
   "display_name": "Python 3",
   "language": "python",
   "name": "python3"
  },
  "language_info": {
   "codemirror_mode": {
    "name": "ipython",
    "version": 3
   },
   "file_extension": ".py",
   "mimetype": "text/x-python",
   "name": "python",
   "nbconvert_exporter": "python",
   "pygments_lexer": "ipython3",
   "version": "3.11.2"
  }
 },
 "nbformat": 4,
 "nbformat_minor": 2
}
