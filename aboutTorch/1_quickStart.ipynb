{
 "cells": [
  {
   "cell_type": "markdown",
   "metadata": {},
   "source": [
    "## dataset and dataloader"
   ]
  },
  {
   "cell_type": "code",
   "execution_count": 1,
   "metadata": {},
   "outputs": [],
   "source": [
    "import torch\n",
    "from torch import nn\n",
    "from torch.utils.data import DataLoader\n",
    "# torch.utils.data.datasets \n",
    "from torchvision import datasets # torchvision, torchaudio 등 도메인특화 datasets\n",
    "from torchvision.transforms import ToTensor\n"
   ]
  },
  {
   "cell_type": "code",
   "execution_count": 3,
   "metadata": {},
   "outputs": [
    {
     "name": "stdout",
     "output_type": "stream",
     "text": [
      "tensor data's feature size is:torch.Size([64, 1, 28, 28])\n",
      "label tensor size is torch.Size([64]), dtype is torch.int64\n"
     ]
    }
   ],
   "source": [
    "# sample과 label로 구성되어 있는 데이터셋 로드\n",
    "# transform을 통해 sample 변환, target_transform을 통해 label변환\n",
    "# ToTensor로 변환시 sample(img) 차원은 [1,28,28]\n",
    "train_data = datasets.FashionMNIST(\n",
    "    root ='./',\n",
    "    train = True,\n",
    "    download = True,\n",
    "    transform = ToTensor()\n",
    ")\n",
    "test_data = datasets.FashionMNIST(\n",
    "    root ='./',\n",
    "    train = False,\n",
    "    download= True,\n",
    "    transform = ToTensor()\n",
    ")\n",
    "\n",
    "# 64개씩 묶음\n",
    "batch_size = 64\n",
    "# dataloader는 feature와 label로 이루어진 데이터를 64개씩 묶어 iterable한 객체로 반환\n",
    "# shuffling sampling 등의 기능도 지원\n",
    "train_loader = DataLoader(train_data, batch_size = batch_size)\n",
    "test_loader = DataLoader(test_data, batch_size = batch_size)\n",
    "\n",
    "for data,label in test_loader:\n",
    "    print(f\"tensor data's feature size is:{data.shape}\")\n",
    "    print(f\"label tensor size is {label.shape}, dtype is {label.dtype}\")\n",
    "    break\n"
   ]
  },
  {
   "cell_type": "markdown",
   "metadata": {},
   "source": [
    "## Model Generate"
   ]
  },
  {
   "cell_type": "markdown",
   "metadata": {},
   "source": []
  }
 ],
 "metadata": {
  "kernelspec": {
   "display_name": "Python 3",
   "language": "python",
   "name": "python3"
  },
  "language_info": {
   "codemirror_mode": {
    "name": "ipython",
    "version": 3
   },
   "file_extension": ".py",
   "mimetype": "text/x-python",
   "name": "python",
   "nbconvert_exporter": "python",
   "pygments_lexer": "ipython3",
   "version": "3.11.2"
  }
 },
 "nbformat": 4,
 "nbformat_minor": 2
}
