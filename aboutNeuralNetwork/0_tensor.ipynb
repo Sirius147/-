{
 "cells": [
  {
   "cell_type": "markdown",
   "metadata": {},
   "source": [
    "## Neural Network Supervised Learning 의 기본과정\n",
    "\n",
    "1. dataset\n",
    "> load, 전처리\n",
    "2. 모델 생성\n",
    "3. loss function 정의\n",
    "4. 모델을 통한 예측\n",
    "5. 예측값과 target값과의 비교\n",
    "6. loss로 부터 back propagation을 통한 gradient 갱신\n",
    "7. optimizer를 통한 parameter 갱신\n",
    "8. 손실값을 측정하며 충분히 낮으면 학습 종료\n",
    "> 모델과 가중치값 저장"
   ]
  },
  {
   "cell_type": "markdown",
   "metadata": {},
   "source": [
    "## 기본적인 pytorch package\n",
    "1. torch\n",
    "2. torch.autograd\n",
    "3. torch.nn\n",
    "> torch.nn.functional 에서 손실함수, 활성화함수,레이어, 데이터 구조 등 포함\n",
    "4. torch.optim\n",
    "> SGD (stochastic gradient descent) 기반 다양한 optimizer로 parameter 최적화\n",
    "5. torch.utils.data\n",
    "> SGD 반복연산을 위한 미니배치용 유틸함수\n",
    "6. torch.onnx (Open Neural Network eXchange)\n",
    "> model export 시 사용"
   ]
  },
  {
   "cell_type": "markdown",
   "metadata": {},
   "source": [
    "## torch.tensor\n",
    "> data, device, requires_grad, dtype 등의 속성을 정의한 tensor"
   ]
  },
  {
   "cell_type": "code",
   "execution_count": 10,
   "metadata": {},
   "outputs": [
    {
     "name": "stdout",
     "output_type": "stream",
     "text": [
      "tensor([1., 2., 3.], device='cuda:0', dtype=torch.float64)\n"
     ]
    },
    {
     "data": {
      "text/plain": [
       "tensor([[1., 2.],\n",
       "        [3., 4.]])"
      ]
     },
     "execution_count": 10,
     "metadata": {},
     "output_type": "execute_result"
    }
   ],
   "source": [
    "import torch\n",
    "\n",
    "t = torch.tensor([1,2,3],device = 'cpu', requires_grad = False, dtype = torch.float64)\n",
    "device = 'cuda' if torch.cuda.is_available() else 'cpu' \n",
    "t = t.to(device)\n",
    "print(t)\n",
    "\n"
   ]
  },
  {
   "cell_type": "markdown",
   "metadata": {},
   "source": [
    "## torch tensor 생성 기본함수"
   ]
  },
  {
   "cell_type": "code",
   "execution_count": 31,
   "metadata": {},
   "outputs": [
    {
     "name": "stdout",
     "output_type": "stream",
     "text": [
      "tensor([[1, 2],\n",
      "        [3, 4]])\n",
      "tensor([[1., 1.],\n",
      "        [1., 1.]])\n",
      "tensor([[0.9180, 0.9310],\n",
      "        [0.2604, 0.9534]])\n",
      "tensor([[0.6558, 0.3020],\n",
      "        [0.4799, 0.7774]])\n",
      "tensor([[0.6558, 0.3020],\n",
      "        [0.4799, 0.7774]])\n",
      "tensor([[1., 0., 0.],\n",
      "        [0., 1., 0.],\n",
      "        [0., 0., 1.]], dtype=torch.float64)\n",
      "tensor([0, 1, 2, 3, 4])\n"
     ]
    }
   ],
   "source": [
    "# torch tensor 생성 기본함수 numpy와 유사한 형식\n",
    "arr = [[1,2],[3,4]]\n",
    "t1 = torch.tensor(arr)\n",
    "t1 = torch.Tensor(t1)\n",
    "print(t1)\n",
    "\n",
    "t2 = torch.ones((2,2))\n",
    "\n",
    "t3 = torch.rand(2,2)\n",
    "print(t2,t3,sep='\\n')\n",
    "\n",
    "torch.manual_seed(9)\n",
    "t4 = torch.rand(2,2)\n",
    "torch.manual_seed(9)\n",
    "t5 = torch.rand(2,2)\n",
    "print(t4,t5,sep='\\n')\n",
    "\n",
    "# 단위 행렬\n",
    "t6 = torch.eye(3,dtype = torch.double)\n",
    "t7=torch.arange(5)\n",
    "print(t6,t7,sep='\\n')"
   ]
  },
  {
   "cell_type": "markdown",
   "metadata": {},
   "source": [
    "## torch.tensor의 dimension 관련 함수"
   ]
  },
  {
   "cell_type": "code",
   "execution_count": 49,
   "metadata": {},
   "outputs": [
    {
     "name": "stdout",
     "output_type": "stream",
     "text": [
      "torch.Size([6])\n",
      "tensor([[0, 1, 2],\n",
      "        [3, 4, 5]]) torch.Size([2, 3])\n",
      "tensor([[[0, 1, 2]],\n",
      "\n",
      "        [[3, 4, 5]]]) torch.Size([2, 1, 3])\n",
      "tensor([[0, 1, 2],\n",
      "        [3, 4, 5]]) torch.Size([2, 3])\n",
      "tensor([[0., 0., 0.],\n",
      "        [0., 0., 0.]])\n",
      "tensor([[1., 1., 1.],\n",
      "        [1., 1., 1.]])\n"
     ]
    },
    {
     "data": {
      "text/plain": [
       "tensor([[0., 0., 0.],\n",
       "        [0., 0., 0.],\n",
       "        [1., 1., 1.],\n",
       "        [1., 1., 1.]])"
      ]
     },
     "execution_count": 49,
     "metadata": {},
     "output_type": "execute_result"
    }
   ],
   "source": [
    "# torch.tensor dimension 관련함수\n",
    "t = torch.arange(6)\n",
    "# 형태, size 출력\n",
    "print(t.shape)\n",
    "# 다양한 reshape함수\n",
    "t = t.reshape(2,-1) # = t.reshape(2,3) = t.view(2,3)\n",
    "print(t,t.shape)\n",
    "# 차원 증가 및 축소\n",
    "t = t.unsqueeze(dim = 1) # 두번 째 차원 하나 추가\n",
    "print(t,t.shape)\n",
    "# squeeze는 차원이 1인 축을 삭제하는 함수\n",
    "# batch가 1인 tensor의 경우 batch차원을 없앨 수도 있으니 주의\n",
    "t = t.squeeze(dim = 1)\n",
    "print(t,t.shape)\n",
    "t1 = torch.zeros((2,3))\n",
    "t2 = torch.ones((2,3))\n",
    "print(t1,t2,sep='\\n')\n",
    "t3 = torch.cat([t1,t2],dim = 0) # dim = 0 4x3 dim = 1 2x6\n",
    "t3\n"
   ]
  },
  {
   "cell_type": "code",
   "execution_count": 50,
   "metadata": {},
   "outputs": [
    {
     "name": "stdout",
     "output_type": "stream",
     "text": [
      "test\n"
     ]
    }
   ],
   "source": [
    "print(\"test\")"
   ]
  },
  {
   "cell_type": "code",
   "execution_count": null,
   "metadata": {},
   "outputs": [],
   "source": []
  }
 ],
 "metadata": {
  "kernelspec": {
   "display_name": "Python 3",
   "language": "python",
   "name": "python3"
  },
  "language_info": {
   "codemirror_mode": {
    "name": "ipython",
    "version": 3
   },
   "file_extension": ".py",
   "mimetype": "text/x-python",
   "name": "python",
   "nbconvert_exporter": "python",
   "pygments_lexer": "ipython3",
   "version": "3.11.2"
  }
 },
 "nbformat": 4,
 "nbformat_minor": 2
}
